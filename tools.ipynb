{
 "cells": [
  {
   "cell_type": "code",
   "execution_count": 1,
   "metadata": {},
   "outputs": [
    {
     "name": "stdout",
     "output_type": "stream",
     "text": [
      "[s] use sample\n",
      "install jsonx, keys: mod6 mod7 sixlan zhihe lianhao...\n",
      "install length 25\n",
      "[  2] 02 06 15 23 24 28 + 09\n",
      "[  6] 03 06 16 23 24 28 + 12\n",
      "[  9] 03 06 15 23 24 28 + 07\n",
      "[ 17] 01 12 15 23 26 33 + 12\n",
      "[ 19] 02 15 16 21 23 28 + 11\n",
      "[ 20] 02 12 16 21 23 27 + 09\n"
     ]
    }
   ],
   "source": [
    "from codex import tools, postcall\n",
    "\n",
    "js = '{\"rego\":true,\"acvalue\":true,\"dx16\":true,\"mod2\":true,\"mod3\":true,\"mod4\":true,\"mod5\":true,\"mod6\":true,\"mod7\":true,\"sixlan\":true,\"zhihe\":true,\"lianhao\":true}'\n",
    "p = postcall.postcallforjson()\n",
    "p.instal_json(js=js)\n",
    "p.setting_length(length=25)\n",
    "# dt = datetime.strptime(strtime, '%Y-%m-%d %H:%M:%S.%f')\n",
    "# timeitsec_A = postcall.timeit.timeit(p.manufacturingQueue, number=1)\n",
    "# for k,v in p.todict().items():\n",
    "#     n, t = v\n",
    "#     print(f'[{k:>3}] {n} + {t}')\n",
    "# print(f'Measured single execution time is A {timeitsec_A} seconds')\n",
    "# await p.setting_queue()\n",
    "# p.interimStorage.clear()\n",
    "# await p.tasks_submit()\n",
    "# # timeitsec_B = postcall.timeit.timeit(p.tasks_submit, number=1)\n",
    "for k,v in p.interimStorage.items():\n",
    "    n, t = v\n",
    "    print(f'[{k:>3}] {n} + {t}')\n",
    "# print(f'Measured single execution time is B {timeitsec_B} seconds')"
   ]
  }
 ],
 "metadata": {
  "kernelspec": {
   "display_name": ".venv",
   "language": "python",
   "name": "python3"
  },
  "language_info": {
   "codemirror_mode": {
    "name": "ipython",
    "version": 3
   },
   "file_extension": ".py",
   "mimetype": "text/x-python",
   "name": "python",
   "nbconvert_exporter": "python",
   "pygments_lexer": "ipython3",
   "version": "3.11.0"
  }
 },
 "nbformat": 4,
 "nbformat_minor": 2
}
