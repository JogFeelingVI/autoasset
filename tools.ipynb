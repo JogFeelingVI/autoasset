{
 "cells": [
  {
   "cell_type": "code",
   "execution_count": 2,
   "metadata": {},
   "outputs": [
    {
     "name": "stdout",
     "output_type": "stream",
     "text": [
      "stime 2024-02-23 22:44:23.861655\n",
      "Data updated 49.0 minutes ago.\n"
     ]
    }
   ],
   "source": [
    "from codex import tools\n",
    "from datetime import datetime\n",
    "\n",
    "strtime:str = '2024-02-23 22:44:23.861655'\n",
    "# dt = datetime.strptime(strtime, '%Y-%m-%d %H:%M:%S.%f')\n",
    "print(tools.diffnow(strtime))"
   ]
  }
 ],
 "metadata": {
  "kernelspec": {
   "display_name": ".venv",
   "language": "python",
   "name": "python3"
  },
  "language_info": {
   "codemirror_mode": {
    "name": "ipython",
    "version": 3
   },
   "file_extension": ".py",
   "mimetype": "text/x-python",
   "name": "python",
   "nbconvert_exporter": "python",
   "pygments_lexer": "ipython3",
   "version": "3.11.7"
  }
 },
 "nbformat": 4,
 "nbformat_minor": 2
}
