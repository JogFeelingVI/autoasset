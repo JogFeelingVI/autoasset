{
 "cells": [
  {
   "cell_type": "code",
   "execution_count": 2,
   "metadata": {},
   "outputs": [
    {
     "name": "stdout",
     "output_type": "stream",
     "text": [
      "fterItem = {'name': 'dzx', 'Optional': [0, 1, 2, 3, 4, 5, 6], 'recommend': [0, 1, 2, 3, 4], 'checked': False, 'Description': 'd is 23-33, z is 12-22,x is 1-11.'}\n",
      "fterItem = {'name': 'acvalue', 'Optional': [0, 1, 2, 3, 4, 5, 6, 7, 8, 9, 10], 'recommend': [4, 5, 6, 7, 8, 9, 10], 'checked': True, 'Description': 'ac value 0-10.'}\n",
      "fterItem = {'name': 'linma', 'Optional': [0, 1, 2, 3, 4, 5, 6], 'recommend': [1, 2, 3, 0], 'checked': False, 'Description': 'Refers to the number adjacent to the last lottery number.'}\n",
      "fterItem = {'name': 'duplicates', 'Optional': [0, 1, 2, 3, 4, 5, 6], 'recommend': [1, 2, 3, 0], 'checked': False, 'Description': 'The same numbers as the previous draw numbers.'}\n",
      "fterItem = {'name': 'sixlan', 'Optional': [21, 183], 'recommend': [29, 171], 'checked': True, 'Description': 'The value obtained by adding all the numbers together.'}\n",
      "fterItem = {'name': 'lianhao', 'Optional': [0, 1, 2, 3, 4, 5, 6], 'recommend': [0, 1, 2, 3, 4], 'checked': False, 'Description': 'There are two or more adjacent numbers in the lottery number.', '__commant__': '[0] = 0 [2] = 1 [2, 2] = 2 [3] = 3 '}\n",
      "fterItem = {'name': 'mod2', 'Optional': [0, 1, 2, 3, 4, 5, 6], 'recommend': [2, 3, 4], 'checked': True, 'Description': 'The remainder of six numbers divided by 2, mod2.'}\n",
      "fterItem = {'name': 'mod3', 'Optional': [0, 1, 2, 3, 4, 5, 6], 'recommend': [0, 1, 2, 3, 4], 'checked': True, 'Description': 'The remainder of six numbers divided by 3, mod3.'}\n",
      "fterItem = {'name': 'mod4', 'Optional': [0, 1, 2, 3, 4, 5, 6], 'recommend': [0, 1, 2, 3], 'checked': True, 'Description': 'The remainder of six numbers divided by 4, mod4.'}\n",
      "fterItem = {'name': 'mod5', 'Optional': [0, 1, 2, 3, 4, 5, 6], 'recommend': [0, 1, 2, 3], 'checked': True, 'Description': 'The remainder of six numbers divided by 5, mod5.'}\n",
      "fterItem = {'name': 'mod6', 'Optional': [0, 1, 2, 3, 4, 5, 6], 'recommend': [0, 1, 2, 3], 'checked': True, 'Description': 'The remainder of six numbers divided by 6, mod6.'}\n",
      "fterItem = {'name': 'mod7', 'Optional': [0, 1, 2, 3, 4, 5, 6], 'recommend': [0, 1, 2], 'checked': True, 'Description': 'The remainder of six numbers divided by 7, mod7.'}\n",
      "fterItem = {'name': 'mod8', 'Optional': [0, 1, 2, 3, 4, 5, 6], 'recommend': [0, 1, 2], 'checked': True, 'Description': 'The remainder of six numbers divided by 8, mod8.'}\n",
      "fterItem = {'name': 'mod9', 'Optional': [0, 1, 2, 3, 4, 5, 6], 'recommend': [0, 1, 2], 'checked': True, 'Description': 'The remainder of six numbers divided by 9, mod9.'}\n",
      "fterItem = {'name': 'dx16', 'Optional': [0, 1, 2, 3, 4, 5, 6], 'recommend': [4], 'checked': False, 'Description': 'The remainder of six numbers divided by 7, mod7.'}\n",
      "fterItem = {'name': 'zhihe', 'Optional': [0, 1, 2, 3, 4, 5, 6], 'recommend': [1, 2, 3, 4], 'checked': True, 'Description': 'The ratio of prime numbers to composite numbers in the lottery numbers.'}\n",
      "fterItem = {'name': 'coldns', 'Optional': 5.0, 'recommend': 2.9, 'checked': False, 'Description': 'This method will cause the hit rate to be reduced and is deprecated.', '__commant__': 'abandon use!'}\n",
      "fterItem = {'name': 'onesixdiff', 'Optional': 15.09, 'recommend': 11.09, 'checked': False, 'Description': 'The minimum difference between the first and sixth digits.'}\n",
      "fterItem = {'name': 'JMSHT', 'Optional': [1, 0, 2, 3, 4, 5], 'recommend': [4, 3], 'checked': True, 'Description': 'The minimum difference between the first and sixth digits.'}\n"
     ]
    }
   ],
   "source": [
    "from codex import filters_v3\n",
    "\n",
    "\n",
    "def main():\n",
    "    fv3 = filters_v3\n",
    "    fv3.initialization()\n",
    "    fv3.Detailed_configuration_table()\n",
    "\n",
    "if __name__ == '__main__':\n",
    "    main()"
   ]
  }
 ],
 "metadata": {
  "kernelspec": {
   "display_name": ".venv",
   "language": "python",
   "name": "python3"
  },
  "language_info": {
   "codemirror_mode": {
    "name": "ipython",
    "version": 3
   },
   "file_extension": ".py",
   "mimetype": "text/x-python",
   "name": "python",
   "nbconvert_exporter": "python",
   "pygments_lexer": "ipython3",
   "version": "3.11.0"
  }
 },
 "nbformat": 4,
 "nbformat_minor": 2
}
